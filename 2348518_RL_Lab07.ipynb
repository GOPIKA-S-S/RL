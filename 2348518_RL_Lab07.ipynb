{
  "nbformat": 4,
  "nbformat_minor": 0,
  "metadata": {
    "colab": {
      "provenance": [],
      "include_colab_link": true
    },
    "kernelspec": {
      "name": "python3",
      "display_name": "Python 3"
    },
    "language_info": {
      "name": "python"
    }
  },
  "cells": [
    {
      "cell_type": "markdown",
      "metadata": {
        "id": "view-in-github",
        "colab_type": "text"
      },
      "source": [
        "<a href=\"https://colab.research.google.com/github/GOPIKA-S-S/RL/blob/main/2348518_RL_Lab07.ipynb\" target=\"_parent\"><img src=\"https://colab.research.google.com/assets/colab-badge.svg\" alt=\"Open In Colab\"/></a>"
      ]
    },
    {
      "cell_type": "markdown",
      "source": [
        "**Import Libraries**"
      ],
      "metadata": {
        "id": "kRqebmC9-MqH"
      }
    },
    {
      "cell_type": "code",
      "execution_count": 6,
      "metadata": {
        "id": "0-JOavJu9mjh"
      },
      "outputs": [],
      "source": [
        "import numpy as np\n",
        "import matplotlib.pyplot as plt"
      ]
    },
    {
      "cell_type": "markdown",
      "source": [
        "**Define the Grid-World**"
      ],
      "metadata": {
        "id": "tlo1bpB6-Rc6"
      }
    },
    {
      "cell_type": "code",
      "source": [
        "class GridWorld:\n",
        "    def __init__(self):\n",
        "        self.grid = np.zeros((3, 4))\n",
        "        self.grid[0, 3] = 1  # Terminal state reward\n",
        "        self.start = (2, 0)\n",
        "        self.terminal = (0, 3)\n",
        "        self.blocked = (1, 1)\n",
        "        self.actions = ['up', 'down', 'left', 'right']\n",
        "        self.state = self.start\n",
        "\n",
        "    def reset(self):\n",
        "        self.state = self.start\n",
        "        return self.state\n",
        "\n",
        "    def step(self, action):\n",
        "        i, j = self.state\n",
        "        if self.state == self.terminal:\n",
        "            return self.state, 0, True  # No further action from terminal state\n",
        "\n",
        "        # Determine the next state\n",
        "        if action == 'up' and i > 0:\n",
        "            next_state = (i - 1, j)\n",
        "        elif action == 'down' and i < 2:\n",
        "            next_state = (i + 1, j)\n",
        "        elif action == 'left' and j > 0:\n",
        "            next_state = (i, j - 1)\n",
        "        elif action == 'right' and j < 3:\n",
        "            next_state = (i, j + 1)\n",
        "        else:\n",
        "            next_state = self.state  # No movement if action leads out of bounds\n",
        "\n",
        "        # Check for blocked cell\n",
        "        if next_state == self.blocked:\n",
        "            next_state = self.state\n",
        "\n",
        "        # Define rewards\n",
        "        if next_state == self.terminal:\n",
        "            reward = 1\n",
        "        else:\n",
        "            reward = 0\n",
        "\n",
        "        self.state = next_state\n",
        "        done = self.state == self.terminal\n",
        "        return next_state, reward, done\n"
      ],
      "metadata": {
        "id": "uFgx4796-PXU"
      },
      "execution_count": 7,
      "outputs": []
    },
    {
      "cell_type": "markdown",
      "source": [
        "**Temporal Difference (TD) Learning**"
      ],
      "metadata": {
        "id": "Q-s6c4Pk-XCm"
      }
    },
    {
      "cell_type": "code",
      "source": [
        "class TD_Learning_Agent:\n",
        "    def __init__(self, gridworld, alpha=0.1, gamma=0.9):\n",
        "        self.env = gridworld\n",
        "        self.alpha = alpha  # Learning rate\n",
        "        self.gamma = gamma  # Discount factor\n",
        "        self.V = np.zeros_like(gridworld.grid)  # State-value table\n",
        "\n",
        "    def choose_action(self):\n",
        "        return np.random.choice(self.env.actions)  # Random policy for simplicity\n",
        "\n",
        "    def update_value(self, state, next_state, reward):\n",
        "        i, j = state\n",
        "        next_i, next_j = next_state\n",
        "        td_target = reward + self.gamma * self.V[next_i, next_j]\n",
        "        td_error = td_target - self.V[i, j]\n",
        "        self.V[i, j] += self.alpha * td_error\n",
        "\n",
        "    def train(self, episodes=100):\n",
        "        for episode in range(episodes):\n",
        "            state = self.env.reset()\n",
        "            done = False\n",
        "\n",
        "            while not done:\n",
        "                action = self.choose_action()\n",
        "                next_state, reward, done = self.env.step(action)\n",
        "                self.update_value(state, next_state, reward)\n",
        "                state = next_state\n"
      ],
      "metadata": {
        "id": "_ciMaw9T-W4V"
      },
      "execution_count": 8,
      "outputs": []
    },
    {
      "cell_type": "markdown",
      "source": [
        "**Visualization**"
      ],
      "metadata": {
        "id": "-Apcwj-k_D7j"
      }
    },
    {
      "cell_type": "code",
      "source": [
        "def visualize_value_function(V):\n",
        "    plt.imshow(V, cmap='coolwarm', interpolation='nearest')\n",
        "    for i in range(V.shape[0]):\n",
        "        for j in range(V.shape[1]):\n",
        "            plt.text(j, i, f\"{V[i, j]:.2f}\", ha='center', va='center', color='black')\n",
        "    plt.colorbar()\n",
        "    plt.title(\"State-Value Function\")\n",
        "    plt.show()\n"
      ],
      "metadata": {
        "id": "dUPEdncb-kOV"
      },
      "execution_count": 9,
      "outputs": []
    },
    {
      "cell_type": "code",
      "source": [
        "if __name__ == \"__main__\":\n",
        "    gridworld = GridWorld()\n",
        "    agent = TD_Learning_Agent(gridworld)\n",
        "\n",
        "    # Train the agent\n",
        "    agent.train(episodes=1000)\n",
        "\n",
        "    # Visualize the learned value function\n",
        "    visualize_value_function(agent.V)\n"
      ],
      "metadata": {
        "colab": {
          "base_uri": "https://localhost:8080/",
          "height": 415
        },
        "id": "2hQIBamG-n4l",
        "outputId": "9be017c9-4354-457d-fceb-87a3abc1a18f"
      },
      "execution_count": 10,
      "outputs": [
        {
          "output_type": "display_data",
          "data": {
            "text/plain": [
              "<Figure size 640x480 with 2 Axes>"
            ],
            "image/png": "[encoded data removed]"
          },
          "metadata": {}
        }
      ]
    }
  ]
}